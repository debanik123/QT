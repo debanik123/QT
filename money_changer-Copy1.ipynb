{
 "cells": [
  {
   "cell_type": "code",
   "execution_count": 1,
   "metadata": {},
   "outputs": [
    {
     "data": {
      "text/plain": [
       "0"
      ]
     },
     "execution_count": 1,
     "metadata": {},
     "output_type": "execute_result"
    }
   ],
   "source": [
    "from PyQt5 import QtWidgets, uic\n",
    "def Convert():\n",
    "    dlg.lineEdit_2.setText(str(float(dlg.lineEdit.text())*75.58))\n",
    "app = QtWidgets.QApplication([])\n",
    "dlg = uic.loadUi('money_converter.ui')\n",
    "\n",
    "dlg.lineEdit.setFocus()\n",
    "dlg.lineEdit.setPlaceholderText('$')\n",
    "#dlg.lineEdit_2.setFocus()\n",
    "dlg.lineEdit_2.setPlaceholderText('₹')\n",
    "dlg.pushButton.clicked.connect(Convert)\n",
    "#print(dlg.lineEdit_2.setText(str(float(dlg.lineEdit.text())*75.58)))\n",
    "dlg.lineEdit.returnPressed.connect(Convert)\n",
    "dlg.lineEdit_2.setReadOnly(True)\n",
    "dlg.show()\n",
    "app.exec()"
   ]
  },
  {
   "cell_type": "code",
   "execution_count": null,
   "metadata": {},
   "outputs": [],
   "source": []
  }
 ],
 "metadata": {
  "kernelspec": {
   "display_name": "Python 3",
   "language": "python",
   "name": "python3"
  },
  "language_info": {
   "codemirror_mode": {
    "name": "ipython",
    "version": 3
   },
   "file_extension": ".py",
   "mimetype": "text/x-python",
   "name": "python",
   "nbconvert_exporter": "python",
   "pygments_lexer": "ipython3",
   "version": "3.7.4"
  }
 },
 "nbformat": 4,
 "nbformat_minor": 2
}
